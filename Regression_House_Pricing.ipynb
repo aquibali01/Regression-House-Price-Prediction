{
  "nbformat": 4,
  "nbformat_minor": 0,
  "metadata": {
    "colab": {
      "name": "Regression House Pricing.ipynb",
      "version": "0.3.2",
      "provenance": [],
      "collapsed_sections": []
    },
    "kernelspec": {
      "name": "python3",
      "display_name": "Python 3"
    }
  },
  "cells": [
    {
      "cell_type": "code",
      "metadata": {
        "id": "xuR08l_SFvlR",
        "colab_type": "code",
        "colab": {}
      },
      "source": [
        "import numpy\n",
        "import pandas\n",
        "from keras.models import Sequential, Model\n",
        "from keras.layers import Dense, Input\n",
        "from keras.wrappers.scikit_learn import KerasRegressor\n",
        "from sklearn.model_selection import cross_val_score\n",
        "from sklearn.model_selection import KFold\n",
        "from sklearn.preprocessing import StandardScaler\n",
        "from sklearn.pipeline import Pipeline"
      ],
      "execution_count": 0,
      "outputs": []
    },
    {
      "cell_type": "markdown",
      "metadata": {
        "id": "mqBYg-CTIpRp",
        "colab_type": "text"
      },
      "source": [
        "# Making Preperation"
      ]
    },
    {
      "cell_type": "code",
      "metadata": {
        "id": "ik4riLZWIwgS",
        "colab_type": "code",
        "outputId": "a714aaf3-b0f0-4d47-876d-7e96748a1e1a",
        "colab": {
          "resources": {
            "http://localhost:8080/nbextensions/google.colab/files.js": {
              "data": "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",
              "ok": true,
              "headers": [
                [
                  "content-type",
                  "application/javascript"
                ]
              ],
              "status": 200,
              "status_text": ""
            }
          },
          "base_uri": "https://localhost:8080/",
          "height": 74
        }
      },
      "source": [
        "from google.colab import files\n",
        "uploaded = files.upload()"
      ],
      "execution_count": 0,
      "outputs": [
        {
          "output_type": "display_data",
          "data": {
            "text/html": [
              "\n",
              "     <input type=\"file\" id=\"files-ea21e339-c324-4b16-89cc-a65af45e05dd\" name=\"files[]\" multiple disabled />\n",
              "     <output id=\"result-ea21e339-c324-4b16-89cc-a65af45e05dd\">\n",
              "      Upload widget is only available when the cell has been executed in the\n",
              "      current browser session. Please rerun this cell to enable.\n",
              "      </output>\n",
              "      <script src=\"/nbextensions/google.colab/files.js\"></script> "
            ],
            "text/plain": [
              "<IPython.core.display.HTML object>"
            ]
          },
          "metadata": {
            "tags": []
          }
        },
        {
          "output_type": "stream",
          "text": [
            "Saving housing.csv to housing (1).csv\n"
          ],
          "name": "stdout"
        }
      ]
    },
    {
      "cell_type": "code",
      "metadata": {
        "id": "YEZAmvydGuvi",
        "colab_type": "code",
        "colab": {}
      },
      "source": [
        "# load dataset\n",
        "dataframe = pandas.read_csv(\"housing.csv\", delim_whitespace=True, header=None)\n",
        "dataset = dataframe.values\n",
        "# split into input (X) and output (Y) variables\n",
        "X = dataset[:,0:13]\n",
        "Y = dataset[:,13]"
      ],
      "execution_count": 0,
      "outputs": []
    },
    {
      "cell_type": "markdown",
      "metadata": {
        "id": "HuCfnVZZOwH7",
        "colab_type": "text"
      },
      "source": [
        "# Creating a Baseline Model \n"
      ]
    },
    {
      "cell_type": "code",
      "metadata": {
        "id": "wvPfcwdJI677",
        "colab_type": "code",
        "outputId": "35178bea-be93-4a7d-d442-6be5d97db4b9",
        "colab": {
          "base_uri": "https://localhost:8080/",
          "height": 275
        }
      },
      "source": [
        "# define base model\n",
        "def baseline_model():\n",
        "  # create model\n",
        "  model = Sequential()\n",
        "  model.add(Dense(13, activation=\"relu\", input_shape = (X.shape[1],)))\n",
        "  model.add(Dense(1))\n",
        "  # Compile model\n",
        "  model.compile(optimizer='adam',\n",
        "                loss='mse',\n",
        "                metrics=['mse'])\n",
        "  return model\n",
        "\n",
        "# fix random seed for reproducibility\n",
        "seed = 7\n",
        "numpy.random.seed(seed)\n",
        "# evaluate model with standardized dataset\n",
        "estimator = KerasRegressor(build_fn=baseline_model, epochs=100, batch_size=5, verbose=0)\n",
        "kfold = KFold(n_splits=10, random_state=seed)\n",
        "results = cross_val_score(estimator, X, Y, cv=kfold)\n",
        "print(\"Results: %.2f (%.2f) MSE\" % (results.mean(), results.std()))\n"
      ],
      "execution_count": 0,
      "outputs": [
        {
          "output_type": "stream",
          "text": [
            "WARNING: Logging before flag parsing goes to stderr.\n",
            "W0826 10:23:03.889927 140475291551616 deprecation_wrapper.py:119] From /usr/local/lib/python3.6/dist-packages/keras/backend/tensorflow_backend.py:74: The name tf.get_default_graph is deprecated. Please use tf.compat.v1.get_default_graph instead.\n",
            "\n",
            "W0826 10:23:03.956049 140475291551616 deprecation_wrapper.py:119] From /usr/local/lib/python3.6/dist-packages/keras/backend/tensorflow_backend.py:517: The name tf.placeholder is deprecated. Please use tf.compat.v1.placeholder instead.\n",
            "\n",
            "W0826 10:23:03.967266 140475291551616 deprecation_wrapper.py:119] From /usr/local/lib/python3.6/dist-packages/keras/backend/tensorflow_backend.py:4138: The name tf.random_uniform is deprecated. Please use tf.random.uniform instead.\n",
            "\n",
            "W0826 10:23:04.008273 140475291551616 deprecation_wrapper.py:119] From /usr/local/lib/python3.6/dist-packages/keras/optimizers.py:790: The name tf.train.Optimizer is deprecated. Please use tf.compat.v1.train.Optimizer instead.\n",
            "\n",
            "W0826 10:23:04.197901 140475291551616 deprecation_wrapper.py:119] From /usr/local/lib/python3.6/dist-packages/keras/backend/tensorflow_backend.py:986: The name tf.assign_add is deprecated. Please use tf.compat.v1.assign_add instead.\n",
            "\n",
            "W0826 10:23:04.266798 140475291551616 deprecation_wrapper.py:119] From /usr/local/lib/python3.6/dist-packages/keras/backend/tensorflow_backend.py:973: The name tf.assign is deprecated. Please use tf.compat.v1.assign instead.\n",
            "\n"
          ],
          "name": "stderr"
        },
        {
          "output_type": "stream",
          "text": [
            "Results: -42.63 (23.43) MSE\n"
          ],
          "name": "stdout"
        }
      ]
    },
    {
      "cell_type": "markdown",
      "metadata": {
        "id": "ySFJO3vbUXSr",
        "colab_type": "text"
      },
      "source": [
        "# Modeling the Standradised Dataset"
      ]
    },
    {
      "cell_type": "code",
      "metadata": {
        "id": "pqNOLg8lSSJu",
        "colab_type": "code",
        "outputId": "013cab5c-8a70-46e5-e89b-e0357a58a5dd",
        "colab": {
          "base_uri": "https://localhost:8080/",
          "height": 34
        }
      },
      "source": [
        "# evaluate model with standardized dataset\n",
        "numpy.random.seed(seed)\n",
        "estimators = []\n",
        "estimators.append(('standardize', StandardScaler()))\n",
        "estimators.append(('mlp', KerasRegressor(build_fn=baseline_model, epochs=50, batch_size=5, verbose=0)))\n",
        "pipeline = Pipeline(estimators)\n",
        "kfold = KFold(n_splits=10, random_state=seed)\n",
        "results = cross_val_score(pipeline, X, Y, cv=kfold)\n",
        "print(\"Standardized: %.2f (%.2f) MSE\" % (results.mean(), results.std()))"
      ],
      "execution_count": 0,
      "outputs": [
        {
          "output_type": "stream",
          "text": [
            "Standardized: -26.92 (32.54) MSE\n"
          ],
          "name": "stdout"
        }
      ]
    },
    {
      "cell_type": "code",
      "metadata": {
        "id": "TaeeUAC7bQyj",
        "colab_type": "code",
        "outputId": "1bebc807-eee0-4ac7-a2f3-402fdc6a2aa9",
        "colab": {
          "base_uri": "https://localhost:8080/",
          "height": 799
        }
      },
      "source": [
        "Y"
      ],
      "execution_count": 0,
      "outputs": [
        {
          "output_type": "execute_result",
          "data": {
            "text/plain": [
              "array([24. , 21.6, 34.7, 33.4, 36.2, 28.7, 22.9, 27.1, 16.5, 18.9, 15. ,\n",
              "       18.9, 21.7, 20.4, 18.2, 19.9, 23.1, 17.5, 20.2, 18.2, 13.6, 19.6,\n",
              "       15.2, 14.5, 15.6, 13.9, 16.6, 14.8, 18.4, 21. , 12.7, 14.5, 13.2,\n",
              "       13.1, 13.5, 18.9, 20. , 21. , 24.7, 30.8, 34.9, 26.6, 25.3, 24.7,\n",
              "       21.2, 19.3, 20. , 16.6, 14.4, 19.4, 19.7, 20.5, 25. , 23.4, 18.9,\n",
              "       35.4, 24.7, 31.6, 23.3, 19.6, 18.7, 16. , 22.2, 25. , 33. , 23.5,\n",
              "       19.4, 22. , 17.4, 20.9, 24.2, 21.7, 22.8, 23.4, 24.1, 21.4, 20. ,\n",
              "       20.8, 21.2, 20.3, 28. , 23.9, 24.8, 22.9, 23.9, 26.6, 22.5, 22.2,\n",
              "       23.6, 28.7, 22.6, 22. , 22.9, 25. , 20.6, 28.4, 21.4, 38.7, 43.8,\n",
              "       33.2, 27.5, 26.5, 18.6, 19.3, 20.1, 19.5, 19.5, 20.4, 19.8, 19.4,\n",
              "       21.7, 22.8, 18.8, 18.7, 18.5, 18.3, 21.2, 19.2, 20.4, 19.3, 22. ,\n",
              "       20.3, 20.5, 17.3, 18.8, 21.4, 15.7, 16.2, 18. , 14.3, 19.2, 19.6,\n",
              "       23. , 18.4, 15.6, 18.1, 17.4, 17.1, 13.3, 17.8, 14. , 14.4, 13.4,\n",
              "       15.6, 11.8, 13.8, 15.6, 14.6, 17.8, 15.4, 21.5, 19.6, 15.3, 19.4,\n",
              "       17. , 15.6, 13.1, 41.3, 24.3, 23.3, 27. , 50. , 50. , 50. , 22.7,\n",
              "       25. , 50. , 23.8, 23.8, 22.3, 17.4, 19.1, 23.1, 23.6, 22.6, 29.4,\n",
              "       23.2, 24.6, 29.9, 37.2, 39.8, 36.2, 37.9, 32.5, 26.4, 29.6, 50. ,\n",
              "       32. , 29.8, 34.9, 37. , 30.5, 36.4, 31.1, 29.1, 50. , 33.3, 30.3,\n",
              "       34.6, 34.9, 32.9, 24.1, 42.3, 48.5, 50. , 22.6, 24.4, 22.5, 24.4,\n",
              "       20. , 21.7, 19.3, 22.4, 28.1, 23.7, 25. , 23.3, 28.7, 21.5, 23. ,\n",
              "       26.7, 21.7, 27.5, 30.1, 44.8, 50. , 37.6, 31.6, 46.7, 31.5, 24.3,\n",
              "       31.7, 41.7, 48.3, 29. , 24. , 25.1, 31.5, 23.7, 23.3, 22. , 20.1,\n",
              "       22.2, 23.7, 17.6, 18.5, 24.3, 20.5, 24.5, 26.2, 24.4, 24.8, 29.6,\n",
              "       42.8, 21.9, 20.9, 44. , 50. , 36. , 30.1, 33.8, 43.1, 48.8, 31. ,\n",
              "       36.5, 22.8, 30.7, 50. , 43.5, 20.7, 21.1, 25.2, 24.4, 35.2, 32.4,\n",
              "       32. , 33.2, 33.1, 29.1, 35.1, 45.4, 35.4, 46. , 50. , 32.2, 22. ,\n",
              "       20.1, 23.2, 22.3, 24.8, 28.5, 37.3, 27.9, 23.9, 21.7, 28.6, 27.1,\n",
              "       20.3, 22.5, 29. , 24.8, 22. , 26.4, 33.1, 36.1, 28.4, 33.4, 28.2,\n",
              "       22.8, 20.3, 16.1, 22.1, 19.4, 21.6, 23.8, 16.2, 17.8, 19.8, 23.1,\n",
              "       21. , 23.8, 23.1, 20.4, 18.5, 25. , 24.6, 23. , 22.2, 19.3, 22.6,\n",
              "       19.8, 17.1, 19.4, 22.2, 20.7, 21.1, 19.5, 18.5, 20.6, 19. , 18.7,\n",
              "       32.7, 16.5, 23.9, 31.2, 17.5, 17.2, 23.1, 24.5, 26.6, 22.9, 24.1,\n",
              "       18.6, 30.1, 18.2, 20.6, 17.8, 21.7, 22.7, 22.6, 25. , 19.9, 20.8,\n",
              "       16.8, 21.9, 27.5, 21.9, 23.1, 50. , 50. , 50. , 50. , 50. , 13.8,\n",
              "       13.8, 15. , 13.9, 13.3, 13.1, 10.2, 10.4, 10.9, 11.3, 12.3,  8.8,\n",
              "        7.2, 10.5,  7.4, 10.2, 11.5, 15.1, 23.2,  9.7, 13.8, 12.7, 13.1,\n",
              "       12.5,  8.5,  5. ,  6.3,  5.6,  7.2, 12.1,  8.3,  8.5,  5. , 11.9,\n",
              "       27.9, 17.2, 27.5, 15. , 17.2, 17.9, 16.3,  7. ,  7.2,  7.5, 10.4,\n",
              "        8.8,  8.4, 16.7, 14.2, 20.8, 13.4, 11.7,  8.3, 10.2, 10.9, 11. ,\n",
              "        9.5, 14.5, 14.1, 16.1, 14.3, 11.7, 13.4,  9.6,  8.7,  8.4, 12.8,\n",
              "       10.5, 17.1, 18.4, 15.4, 10.8, 11.8, 14.9, 12.6, 14.1, 13. , 13.4,\n",
              "       15.2, 16.1, 17.8, 14.9, 14.1, 12.7, 13.5, 14.9, 20. , 16.4, 17.7,\n",
              "       19.5, 20.2, 21.4, 19.9, 19. , 19.1, 19.1, 20.1, 19.9, 19.6, 23.2,\n",
              "       29.8, 13.8, 13.3, 16.7, 12. , 14.6, 21.4, 23. , 23.7, 25. , 21.8,\n",
              "       20.6, 21.2, 19.1, 20.6, 15.2,  7. ,  8.1, 13.6, 20.1, 21.8, 24.5,\n",
              "       23.1, 19.7, 18.3, 21.2, 17.5, 16.8, 22.4, 20.6, 23.9, 22. , 11.9])"
            ]
          },
          "metadata": {
            "tags": []
          },
          "execution_count": 14
        }
      ]
    },
    {
      "cell_type": "code",
      "metadata": {
        "id": "oI3K0_k_YnI7",
        "colab_type": "code",
        "colab": {}
      },
      "source": [
        "mean = Y.mean(axis=0)\n",
        "Y -= mean\n",
        "std = Y.std(axis=0)\n",
        "Y /= std"
      ],
      "execution_count": 0,
      "outputs": []
    },
    {
      "cell_type": "code",
      "metadata": {
        "id": "wZSuu0hDbT9Y",
        "colab_type": "code",
        "outputId": "723baf99-5091-4dc1-8a98-beced76efe37",
        "colab": {
          "base_uri": "https://localhost:8080/",
          "height": 1000
        }
      },
      "source": [
        "Y"
      ],
      "execution_count": 0,
      "outputs": [
        {
          "output_type": "execute_result",
          "data": {
            "text/plain": [
              "array([ 0.15968566, -0.10152429,  1.32424667,  1.18275795,  1.48750288,\n",
              "        0.6712218 ,  0.03996443,  0.49708184, -0.65659542, -0.39538548,\n",
              "       -0.81985164, -0.39538548, -0.09064054, -0.23212926, -0.47157171,\n",
              "       -0.286548  ,  0.06173193, -0.54775795, -0.25389676, -0.47157171,\n",
              "       -0.97222411, -0.31919924, -0.79808414, -0.87427038, -0.75454915,\n",
              "       -0.93957286, -0.64571167, -0.84161913, -0.44980422, -0.16682677,\n",
              "       -1.07017784, -0.87427038, -1.0157591 , -1.02664285, -0.98310786,\n",
              "       -0.39538548, -0.27566425, -0.16682677,  0.23587189,  0.89978051,\n",
              "        1.34601416,  0.4426631 ,  0.30117438,  0.23587189, -0.14505928,\n",
              "       -0.35185049, -0.27566425, -0.64571167, -0.88515413, -0.34096674,\n",
              "       -0.30831549, -0.22124551,  0.26852314,  0.09438317, -0.39538548,\n",
              "        1.4004329 ,  0.23587189,  0.98685049,  0.08349942, -0.31919924,\n",
              "       -0.41715297, -0.71101416, -0.0362218 ,  0.26852314,  1.13922296,\n",
              "        0.10526692, -0.34096674, -0.0579893 , -0.55864169, -0.17771052,\n",
              "        0.18145315, -0.09064054,  0.02908069,  0.09438317,  0.17056941,\n",
              "       -0.12329178, -0.27566425, -0.18859427, -0.14505928, -0.24301301,\n",
              "        0.59503557,  0.14880191,  0.24675564,  0.03996443,  0.14880191,\n",
              "        0.4426631 , -0.00357056, -0.0362218 ,  0.11615067,  0.6712218 ,\n",
              "        0.00731319, -0.0579893 ,  0.03996443,  0.26852314, -0.21036176,\n",
              "        0.63857056, -0.12329178,  1.75959658,  2.31466771,  1.16099045,\n",
              "        0.54061683,  0.43177935, -0.42803672, -0.35185049, -0.2647805 ,\n",
              "       -0.33008299, -0.33008299, -0.23212926, -0.29743175, -0.34096674,\n",
              "       -0.09064054,  0.02908069, -0.40626922, -0.41715297, -0.43892047,\n",
              "       -0.46068796, -0.14505928, -0.36273423, -0.23212926, -0.35185049,\n",
              "       -0.0579893 , -0.24301301, -0.22124551, -0.56952544, -0.40626922,\n",
              "       -0.12329178, -0.7436654 , -0.68924667, -0.49333921, -0.89603787,\n",
              "       -0.36273423, -0.31919924,  0.05084818, -0.44980422, -0.75454915,\n",
              "       -0.48245546, -0.55864169, -0.59129294, -1.00487535, -0.5151067 ,\n",
              "       -0.92868912, -0.88515413, -0.9939916 , -0.75454915, -1.16813157,\n",
              "       -0.95045661, -0.75454915, -0.86338663, -0.5151067 , -0.77631665,\n",
              "       -0.11240804, -0.31919924, -0.7872004 , -0.34096674, -0.60217668,\n",
              "       -0.75454915, -1.02664285,  2.04257402,  0.1923369 ,  0.08349942,\n",
              "        0.48619809,  2.98946007,  2.98946007,  2.98946007,  0.01819694,\n",
              "        0.26852314,  2.98946007,  0.13791816,  0.13791816, -0.02533805,\n",
              "       -0.55864169, -0.37361798,  0.06173193,  0.11615067,  0.00731319,\n",
              "        0.74740804,  0.07261568,  0.22498815,  0.80182678,  1.59634036,\n",
              "        1.8793178 ,  1.48750288,  1.6725266 ,  1.08480422,  0.4208956 ,\n",
              "        0.76917553,  2.98946007,  1.03038548,  0.79094303,  1.34601416,\n",
              "        1.57457287,  0.86712926,  1.50927038,  0.93243175,  0.71475679,\n",
              "        2.98946007,  1.1718742 ,  0.84536177,  1.31336292,  1.34601416,\n",
              "        1.12833921,  0.17056941,  2.1514115 ,  2.82620386,  2.98946007,\n",
              "        0.00731319,  0.20322065, -0.00357056,  0.20322065, -0.27566425,\n",
              "       -0.09064054, -0.35185049, -0.01445431,  0.60591932,  0.12703442,\n",
              "        0.26852314,  0.08349942,  0.6712218 , -0.11240804,  0.05084818,\n",
              "        0.45354685, -0.09064054,  0.54061683,  0.82359427,  2.42350519,\n",
              "        2.98946007,  1.63987535,  0.98685049,  2.6302964 ,  0.97596674,\n",
              "        0.1923369 ,  0.99773424,  2.08610901,  2.80443636,  0.70387305,\n",
              "        0.15968566,  0.27940688,  0.97596674,  0.12703442,  0.08349942,\n",
              "       -0.0579893 , -0.2647805 , -0.0362218 ,  0.12703442, -0.5368742 ,\n",
              "       -0.43892047,  0.1923369 , -0.22124551,  0.2141044 ,  0.39912811,\n",
              "        0.20322065,  0.24675564,  0.76917553,  2.20583024, -0.06887304,\n",
              "       -0.17771052,  2.33643521,  2.98946007,  1.46573539,  0.82359427,\n",
              "        1.22629294,  2.23848148,  2.8588551 ,  0.921548  ,  1.52015413,\n",
              "        0.02908069,  0.88889676,  2.98946007,  2.28201647, -0.19947802,\n",
              "       -0.15594303,  0.29029063,  0.20322065,  1.37866541,  1.07392047,\n",
              "        1.03038548,  1.16099045,  1.1501067 ,  0.71475679,  1.36778166,\n",
              "        2.48880768,  1.4004329 ,  2.55411016,  2.98946007,  1.05215297,\n",
              "       -0.0579893 , -0.2647805 ,  0.07261568, -0.02533805,  0.24675564,\n",
              "        0.64945431,  1.60722411,  0.58415182,  0.14880191, -0.09064054,\n",
              "        0.66033806,  0.49708184, -0.24301301, -0.00357056,  0.70387305,\n",
              "        0.24675564, -0.0579893 ,  0.4208956 ,  1.1501067 ,  1.47661914,\n",
              "        0.63857056,  1.18275795,  0.61680306,  0.02908069, -0.24301301,\n",
              "       -0.70013041, -0.04710555, -0.34096674, -0.10152429,  0.13791816,\n",
              "       -0.68924667, -0.5151067 , -0.29743175,  0.06173193, -0.16682677,\n",
              "        0.13791816,  0.06173193, -0.23212926, -0.43892047,  0.26852314,\n",
              "        0.22498815,  0.05084818, -0.0362218 , -0.35185049,  0.00731319,\n",
              "       -0.29743175, -0.59129294, -0.34096674, -0.0362218 , -0.19947802,\n",
              "       -0.15594303, -0.33008299, -0.43892047, -0.21036176, -0.38450173,\n",
              "       -0.41715297,  1.10657171, -0.65659542,  0.14880191,  0.9433155 ,\n",
              "       -0.54775795, -0.58040919,  0.06173193,  0.2141044 ,  0.4426631 ,\n",
              "        0.03996443,  0.17056941, -0.42803672,  0.82359427, -0.47157171,\n",
              "       -0.21036176, -0.5151067 , -0.09064054,  0.01819694,  0.00731319,\n",
              "        0.26852314, -0.286548  , -0.18859427, -0.62394418, -0.06887304,\n",
              "        0.54061683, -0.06887304,  0.06173193,  2.98946007,  2.98946007,\n",
              "        2.98946007,  2.98946007,  2.98946007, -0.95045661, -0.95045661,\n",
              "       -0.81985164, -0.93957286, -1.00487535, -1.02664285, -1.34227153,\n",
              "       -1.32050404, -1.2660853 , -1.22255031, -1.11371283, -1.494644  ,\n",
              "       -1.66878396, -1.30962029, -1.64701647, -1.34227153, -1.20078281,\n",
              "       -0.80896789,  0.07261568, -1.39669027, -0.95045661, -1.07017784,\n",
              "       -1.02664285, -1.09194533, -1.52729524, -1.90822641, -1.76673769,\n",
              "       -1.84292393, -1.66878396, -1.13548032, -1.54906274, -1.52729524,\n",
              "       -1.90822641, -1.15724782,  0.58415182, -0.58040919,  0.54061683,\n",
              "       -0.81985164, -0.58040919, -0.50422295, -0.67836292, -1.69055146,\n",
              "       -1.66878396, -1.63613272, -1.32050404, -1.494644  , -1.53817899,\n",
              "       -0.63482793, -0.90692162, -0.18859427, -0.9939916 , -1.17901531,\n",
              "       -1.54906274, -1.34227153, -1.2660853 , -1.25520155, -1.41845777,\n",
              "       -0.87427038, -0.91780537, -0.70013041, -0.89603787, -1.17901531,\n",
              "       -0.9939916 , -1.40757402, -1.50552775, -1.53817899, -1.05929409,\n",
              "       -1.30962029, -0.59129294, -0.44980422, -0.77631665, -1.27696904,\n",
              "       -1.16813157, -0.83073539, -1.08106158, -0.91780537, -1.03752659,\n",
              "       -0.9939916 , -0.79808414, -0.70013041, -0.5151067 , -0.83073539,\n",
              "       -0.91780537, -1.07017784, -0.98310786, -0.83073539, -0.27566425,\n",
              "       -0.66747917, -0.52599045, -0.33008299, -0.25389676, -0.12329178,\n",
              "       -0.286548  , -0.38450173, -0.37361798, -0.37361798, -0.2647805 ,\n",
              "       -0.286548  , -0.31919924,  0.07261568,  0.79094303, -0.95045661,\n",
              "       -1.00487535, -0.63482793, -1.14636407, -0.86338663, -0.12329178,\n",
              "        0.05084818,  0.12703442,  0.26852314, -0.07975679, -0.21036176,\n",
              "       -0.14505928, -0.37361798, -0.21036176, -0.79808414, -1.69055146,\n",
              "       -1.57083023, -0.97222411, -0.2647805 , -0.07975679,  0.2141044 ,\n",
              "        0.06173193, -0.30831549, -0.46068796, -0.14505928, -0.54775795,\n",
              "       -0.62394418, -0.01445431, -0.21036176,  0.14880191, -0.0579893 ,\n",
              "       -1.15724782])"
            ]
          },
          "metadata": {
            "tags": []
          },
          "execution_count": 16
        }
      ]
    },
    {
      "cell_type": "code",
      "metadata": {
        "id": "qHsO6-pIbU1o",
        "colab_type": "code",
        "outputId": "8d316b0b-c80d-4718-efb6-47e9ca4b88a8",
        "colab": {
          "base_uri": "https://localhost:8080/",
          "height": 34
        }
      },
      "source": [
        "# define base model\n",
        "def baseline_model():\n",
        "  # create model\n",
        "  model = Sequential()\n",
        "  model.add(Dense(13, activation=\"relu\", input_shape = (X.shape[1],)))\n",
        "  model.add(Dense(1, activation = \"sigmoid\"))\n",
        "  # Compile model\n",
        "  model.compile(optimizer='adam',\n",
        "                loss='mse',\n",
        "                metrics=['mse'])\n",
        "  return model\n",
        "# evaluate model with standardized dataset\n",
        "numpy.random.seed(seed)\n",
        "estimators = []\n",
        "estimators.append(('standardize', StandardScaler()))\n",
        "estimators.append(('mlp', KerasRegressor(build_fn=baseline_model, epochs=50, batch_size=5, verbose=0)))\n",
        "pipeline = Pipeline(estimators)\n",
        "kfold = KFold(n_splits=10, random_state=seed)\n",
        "results = cross_val_score(pipeline, X, Y, cv=kfold)\n",
        "print(\"Standardized: %.2f (%.2f) MSE\" % (results.mean(), results.std()))"
      ],
      "execution_count": 0,
      "outputs": [
        {
          "output_type": "stream",
          "text": [
            "Standardized: -0.64 (0.57) MSE\n"
          ],
          "name": "stdout"
        }
      ]
    },
    {
      "cell_type": "code",
      "metadata": {
        "id": "NLMEzauucLUI",
        "colab_type": "code",
        "colab": {}
      },
      "source": [
        ""
      ],
      "execution_count": 0,
      "outputs": []
    },
    {
      "cell_type": "markdown",
      "metadata": {
        "id": "BUnFLeOKcdhQ",
        "colab_type": "text"
      },
      "source": [
        "# Tuning the network Topology"
      ]
    },
    {
      "cell_type": "markdown",
      "metadata": {
        "id": "OIo72_mgcikQ",
        "colab_type": "text"
      },
      "source": [
        "# Evaluate a Deeper Network Topology"
      ]
    },
    {
      "cell_type": "code",
      "metadata": {
        "id": "77_hO26UcoEH",
        "colab_type": "code",
        "outputId": "6b293942-9c87-4635-8972-1606d6038807",
        "colab": {
          "base_uri": "https://localhost:8080/",
          "height": 34
        }
      },
      "source": [
        "# define base model\n",
        "def larger_model():\n",
        "  # create model\n",
        "  model = Sequential()\n",
        "  model.add(Dense(13, activation=\"relu\", input_shape = (X.shape[1],)))\n",
        "  model.add(Dense(6, activation=\"relu\"))\n",
        "  model.add(Dense(1))\n",
        "  # Compile model\n",
        "  model.compile(optimizer='adam',\n",
        "                loss='mse',\n",
        "                metrics=['mse'])\n",
        "  return model\n",
        "# evaluate model with standardized dataset\n",
        "numpy.random.seed(seed)\n",
        "estimators = []\n",
        "estimators.append(('standardize', StandardScaler()))\n",
        "estimators.append(('mlp', KerasRegressor(build_fn=larger_model, epochs=50, batch_size=5, verbose=0)))\n",
        "pipeline = Pipeline(estimators)\n",
        "kfold = KFold(n_splits=10, random_state=seed)\n",
        "results = cross_val_score(pipeline, X, Y, cv=kfold)\n",
        "print(\"Larger: %.2f (%.2f) MSE\" % (results.mean(), results.std()))"
      ],
      "execution_count": 0,
      "outputs": [
        {
          "output_type": "stream",
          "text": [
            "Larger: -22.58 (28.45) MSE\n"
          ],
          "name": "stdout"
        }
      ]
    },
    {
      "cell_type": "markdown",
      "metadata": {
        "id": "xDSZQ1jthzot",
        "colab_type": "text"
      },
      "source": [
        "# Evaluate a wider network"
      ]
    },
    {
      "cell_type": "code",
      "metadata": {
        "id": "gMh50LU3h2pn",
        "colab_type": "code",
        "outputId": "f087bd71-ed41-4538-edab-edd89b2e8682",
        "colab": {
          "base_uri": "https://localhost:8080/",
          "height": 34
        }
      },
      "source": [
        "# define base model\n",
        "def wider_model():\n",
        "  # create model\n",
        "  model = Sequential()\n",
        "  model.add(Dense(20, activation=\"relu\", input_shape = (X.shape[1],)))\n",
        "  model.add(Dense(1))\n",
        "  # Compile model\n",
        "  model.compile(optimizer='adam',\n",
        "                loss='mse',\n",
        "                metrics=['mse'])\n",
        "  return model\n",
        "# evaluate model with standardized dataset\n",
        "numpy.random.seed(seed)\n",
        "estimators = []\n",
        "estimators.append(('standardize', StandardScaler()))\n",
        "estimators.append(('mlp', KerasRegressor(build_fn=wider_model, epochs=100, batch_size=5, verbose=0)))\n",
        "pipeline = Pipeline(estimators)\n",
        "kfold = KFold(n_splits=10, random_state=seed)\n",
        "results = cross_val_score(pipeline, X, Y, cv=kfold)\n",
        "print(\"Wider: %.2f (%.2f) MSE\" % (results.mean(), results.std()))"
      ],
      "execution_count": 0,
      "outputs": [
        {
          "output_type": "stream",
          "text": [
            "Wider: -21.11 (21.84) MSE\n"
          ],
          "name": "stdout"
        }
      ]
    },
    {
      "cell_type": "markdown",
      "metadata": {
        "id": "bEOEzcCdijqY",
        "colab_type": "text"
      },
      "source": [
        "# Really Scaling up: developing a model that overfits"
      ]
    },
    {
      "cell_type": "code",
      "metadata": {
        "id": "fmiOkoabik0c",
        "colab_type": "code",
        "outputId": "76d2db85-17f2-4f8c-e68a-65468e3dfd8e",
        "colab": {
          "base_uri": "https://localhost:8080/",
          "height": 34
        }
      },
      "source": [
        "# define base model\n",
        "def overfit_model():\n",
        "  # create model\n",
        "  model = Sequential()\n",
        "  model.add(Dense(128, activation=\"relu\", input_shape = (X.shape[1],)))\n",
        "  model.add(Dense(64, activation=\"relu\"))\n",
        "  model.add(Dense(32, activation=\"relu\"))\n",
        "  model.add(Dense(1))\n",
        "  # Compile model\n",
        "  model.compile(optimizer='adam',\n",
        "                loss='mse',\n",
        "                metrics=['mse'])\n",
        "  return model\n",
        "# evaluate model with standardized dataset\n",
        "numpy.random.seed(seed)\n",
        "estimators = []\n",
        "estimators.append(('standardize', StandardScaler()))\n",
        "estimators.append(('mlp', KerasRegressor(build_fn=overfit_model, epochs=200, batch_size=5, verbose=0)))\n",
        "pipeline = Pipeline(estimators)\n",
        "kfold = KFold(n_splits=10, random_state=seed)\n",
        "results = cross_val_score(pipeline, X, Y, cv=kfold)\n",
        "print(\"Overfits: %.2f (%.2f) MSE\" % (results.mean(), results.std()))"
      ],
      "execution_count": 0,
      "outputs": [
        {
          "output_type": "stream",
          "text": [
            "Overfits: -29.00 (21.85) MSE\n"
          ],
          "name": "stdout"
        }
      ]
    },
    {
      "cell_type": "markdown",
      "metadata": {
        "id": "G3u9sQTEkEsu",
        "colab_type": "text"
      },
      "source": [
        "# Optimized Model "
      ]
    },
    {
      "cell_type": "code",
      "metadata": {
        "id": "Q-SQ_6QWkHVK",
        "colab_type": "code",
        "outputId": "275aefad-61c1-4be1-9992-0f6a38e14a21",
        "colab": {
          "base_uri": "https://localhost:8080/",
          "height": 34
        }
      },
      "source": [
        "# define base model\n",
        "def optimized_model():\n",
        "  # create model\n",
        "  model = Sequential()\n",
        "  model.add(Dense(32, activation=\"relu\", input_shape = (X.shape[1],)))\n",
        "  model.add(Dense(1))\n",
        "  # Compile model\n",
        "  model.compile(optimizer='rmsprop',\n",
        "                loss='mse',\n",
        "                metrics=['mse'])\n",
        "  return model\n",
        "# evaluate model with standardized dataset\n",
        "seed = 7\n",
        "numpy.random.seed(seed)\n",
        "estimators = []\n",
        "estimators.append(('standardize', StandardScaler()))\n",
        "estimators.append(('mlp', KerasRegressor(build_fn=optimized_model, epochs=75, batch_size=5, verbose=0)))\n",
        "pipeline = Pipeline(estimators)\n",
        "kfold = KFold(n_splits=10, random_state=seed)\n",
        "results = cross_val_score(pipeline, X, Y, cv=kfold)\n",
        "print(\"Optimized: %.2f (%.2f) MSE\" % (results.mean(), results.std()))"
      ],
      "execution_count": 0,
      "outputs": [
        {
          "output_type": "stream",
          "text": [
            "Optimized: -18.91 (22.10) MSE\n"
          ],
          "name": "stdout"
        }
      ]
    },
    {
      "cell_type": "code",
      "metadata": {
        "id": "9Q65C4RNqyDd",
        "colab_type": "code",
        "outputId": "600e2571-74fb-4e4f-9847-778da5b91688",
        "colab": {
          "base_uri": "https://localhost:8080/",
          "height": 68
        }
      },
      "source": [
        "results"
      ],
      "execution_count": 0,
      "outputs": [
        {
          "output_type": "execute_result",
          "data": {
            "text/plain": [
              "array([ -8.99247942,  -6.30443755, -12.59054855, -25.03042662,\n",
              "        -9.22693404,  -8.46041461,  -4.55317028, -83.04860716,\n",
              "       -16.67859986, -14.18847297])"
            ]
          },
          "metadata": {
            "tags": []
          },
          "execution_count": 34
        }
      ]
    },
    {
      "cell_type": "markdown",
      "metadata": {
        "id": "kE5ga2lKlOJC",
        "colab_type": "text"
      },
      "source": [
        "# Rewriting the code using the Keras Functional API"
      ]
    },
    {
      "cell_type": "code",
      "metadata": {
        "id": "sHK8Xhz9lPVN",
        "colab_type": "code",
        "colab": {}
      },
      "source": [
        "def create_funcAPI():\n",
        "  inputs = Input(shape=(X.shape[1],))\n",
        "  hidden = Dense(60, activation = \"relu\")(inputs)\n",
        "  hidden = Dense(30, activation = \"relu\")(hidden)\n",
        "  hidden = Dense(15, activation = \"relu\")(hidden)\n",
        "  prediction = Dense(1)(hidden)\n",
        "  model = Model(inputs = inputs, outputs = prediction)\n",
        "  model.compile(loss = \"mse\",\n",
        "                optimizer = \"rmsprop\",\n",
        "                metrics = [\"mse\"]\n",
        "  )\n",
        "  return model"
      ],
      "execution_count": 0,
      "outputs": []
    },
    {
      "cell_type": "markdown",
      "metadata": {
        "id": "SCN7hDgemoOT",
        "colab_type": "text"
      },
      "source": [
        "# Rewriting the code by doing Model Subclassing"
      ]
    },
    {
      "cell_type": "code",
      "metadata": {
        "id": "bGct2XRXmprH",
        "colab_type": "code",
        "colab": {}
      },
      "source": [
        "class MyModel(Model):\n",
        "  def __init__(self):\n",
        "    super(MyModel, self).__init__()\n",
        "    #Define the layers\n",
        "    inputs = Input(shape=(X.shape[1],))\n",
        "    self.dense_1 = Dense(32, activation= \"relu\")\n",
        "    self.dense_2 = Dense(1)\n",
        "  def call(self, inputs):\n",
        "    # Define your forward pass here,\n",
        "    # using layers you previously defined in `__init__`\n",
        "    x = self.dense_1(inputs)\n",
        "    return self.dense_2(x)\n",
        "def model_subclass():\n",
        "  model = MyModel()\n",
        "\n",
        "  #compiling the model\n",
        "  model.compile(optimizer='rmsprop',\n",
        "                loss='mse',\n",
        "                metrics=['mae'])\n",
        "  return model\n"
      ],
      "execution_count": 0,
      "outputs": []
    },
    {
      "cell_type": "markdown",
      "metadata": {
        "id": "epKDpSGgp_bY",
        "colab_type": "text"
      },
      "source": [
        "# Evaliuation without using Scikit-Learn"
      ]
    },
    {
      "cell_type": "code",
      "metadata": {
        "id": "huKHzjwuqDuf",
        "colab_type": "code",
        "outputId": "76547f22-ed5a-429d-fedb-945cffff247f",
        "colab": {
          "base_uri": "https://localhost:8080/",
          "height": 102
        }
      },
      "source": [
        "k = 5\n",
        "num_val_samples = len(X)//k\n",
        "all_scores = []\n",
        "\n",
        "for i in range(k):\n",
        "  print(\"Processing fold #\", i )\n",
        "  val_X = X[i * num_val_samples : (i+1) * num_val_samples]\n",
        "  val_Y = Y[i* num_val_samples : (i+1) * num_val_samples]\n",
        "  \n",
        "  partial_X = numpy.concatenate(\n",
        "  [X[:i * num_val_samples],\n",
        "  X[(i+1)* num_val_samples : ]]\n",
        "  , axis = 0)\n",
        "  \n",
        "  partial_Y = numpy.concatenate(\n",
        "  [Y[:i * num_val_samples],\n",
        "  Y[(i+1)* num_val_samples : ]]\n",
        "  , axis = 0)\n",
        "  \n",
        "  model = model_subclass()\n",
        "  model.fit(partial_X, partial_Y, epochs = 75, batch_size = 5, verbose= 0)\n",
        "  val_mse, val_mae = model.evaluate(val_X, val_Y, verbose=0)\n",
        "  all_scores.append(val_mse)\n",
        "  "
      ],
      "execution_count": 0,
      "outputs": [
        {
          "output_type": "stream",
          "text": [
            "Processing fold # 0\n",
            "Processing fold # 1\n",
            "Processing fold # 2\n",
            "Processing fold # 3\n",
            "Processing fold # 4\n"
          ],
          "name": "stdout"
        }
      ]
    },
    {
      "cell_type": "code",
      "metadata": {
        "id": "2NINS3aQtfER",
        "colab_type": "code",
        "outputId": "e398a54c-b8c3-4c89-d0f6-26af13bed672",
        "colab": {
          "base_uri": "https://localhost:8080/",
          "height": 34
        }
      },
      "source": [
        "print(\"Standardized: %.2f (%.2f)\" % (numpy.mean(all_scores), numpy.std(all_scores)))\n"
      ],
      "execution_count": 0,
      "outputs": [
        {
          "output_type": "stream",
          "text": [
            "Standardized: 38.96 (13.58)\n"
          ],
          "name": "stdout"
        }
      ]
    }
  ]
}